{
 "cells": [
  {
   "cell_type": "code",
   "execution_count": null,
   "metadata": {
    "colab": {
     "base_uri": "https://localhost:8080/"
    },
    "executionInfo": {
     "elapsed": 31508,
     "status": "ok",
     "timestamp": 1609698253796,
     "user": {
      "displayName": "PABLO FLORES ALVARADO",
      "photoUrl": "",
      "userId": "10062352851565299218"
     },
     "user_tz": 180
    },
    "id": "iZrlU6K3eGGZ",
    "outputId": "5e862fbf-8cf8-4f13-b9b6-b00bbcbc4451"
   },
   "outputs": [],
   "source": [
    "from google.colab import drive\n",
    "drive.mount('/content/drive')"
   ]
  },
  {
   "cell_type": "code",
   "execution_count": null,
   "metadata": {
    "executionInfo": {
     "elapsed": 15405,
     "status": "ok",
     "timestamp": 1609698537998,
     "user": {
      "displayName": "PABLO FLORES ALVARADO",
      "photoUrl": "",
      "userId": "10062352851565299218"
     },
     "user_tz": 180
    },
    "id": "HZwPrMnIew23"
   },
   "outputs": [],
   "source": [
    "!cd '/content/drive/MyDrive/PUC/Magister/PytorchLearning/DeepEvidentialRegression'"
   ]
  },
  {
   "cell_type": "code",
   "execution_count": 1,
   "metadata": {
    "executionInfo": {
     "elapsed": 2552,
     "status": "ok",
     "timestamp": 1609698552602,
     "user": {
      "displayName": "PABLO FLORES ALVARADO",
      "photoUrl": "",
      "userId": "10062352851565299218"
     },
     "user_tz": 180
    },
    "id": "xyNuEMV3cMEl"
   },
   "outputs": [],
   "source": [
    "import torch\n",
    "import numpy as np\n",
    "\n",
    "import data_loader\n",
    "from FullyConnectedModel import EvidentialRegression\n",
    "from EvidentialTrainer import EvidentialTrainer"
   ]
  },
  {
   "cell_type": "code",
   "execution_count": 2,
   "metadata": {
    "executionInfo": {
     "elapsed": 870,
     "status": "ok",
     "timestamp": 1609698557335,
     "user": {
      "displayName": "PABLO FLORES ALVARADO",
      "photoUrl": "",
      "userId": "10062352851565299218"
     },
     "user_tz": 180
    },
    "id": "u07X0KF1cME0"
   },
   "outputs": [],
   "source": [
    "datasets = ['boston', 'concrete', 'energy-efficiency', 'kin8nm', 'naval', 'power-plant', 'protein', 'wine', 'yacht']\n",
    "num_epochs = 40"
   ]
  },
  {
   "cell_type": "code",
   "execution_count": 4,
   "metadata": {
    "executionInfo": {
     "elapsed": 1370,
     "status": "ok",
     "timestamp": 1609698595939,
     "user": {
      "displayName": "PABLO FLORES ALVARADO",
      "photoUrl": "",
      "userId": "10062352851565299218"
     },
     "user_tz": 180
    },
    "id": "BF2sztKxcME2"
   },
   "outputs": [],
   "source": [
    "h_params = {\n",
    "    'yacht': {'learning_rate': 5e-4, 'batch_size': 1},\n",
    "    'naval': {'learning_rate': 5e-4, 'batch_size': 1},\n",
    "    'concrete': {'learning_rate': 5e-3, 'batch_size': 1},\n",
    "    'energy-efficiency': {'learning_rate': 2e-3, 'batch_size': 1},\n",
    "    'kin8nm': {'learning_rate': 1e-3, 'batch_size': 1},\n",
    "    'power-plant': {'learning_rate': 1e-3, 'batch_size': 2},\n",
    "    'boston': {'learning_rate': 1e-3, 'batch_size': 8},\n",
    "    'wine': {'learning_rate': 1e-4, 'batch_size': 32},\n",
    "    'protein': {'learning_rate': 1e-3, 'batch_size': 64},\n",
    "}"
   ]
  },
  {
   "cell_type": "code",
   "execution_count": 8,
   "metadata": {
    "colab": {
     "base_uri": "https://localhost:8080/",
     "height": 450
    },
    "executionInfo": {
     "elapsed": 12452,
     "status": "error",
     "timestamp": 1609698639384,
     "user": {
      "displayName": "PABLO FLORES ALVARADO",
      "photoUrl": "",
      "userId": "10062352851565299218"
     },
     "user_tz": 180
    },
    "id": "uuRhcwJDcME3",
    "outputId": "8d939b57-2b5d-4d73-a951-f2fa041affe2"
   },
   "outputs": [
    {
     "name": "stdout",
     "output_type": "stream",
     "text": [
      "boston\n",
      "Loading dataset boston....\n",
      "Done loading dataset boston\n",
      "concrete\n",
      "Loading dataset concrete....\n",
      "Done loading dataset concrete\n",
      "energy-efficiency\n",
      "Loading dataset energy-efficiency....\n",
      "Done loading dataset energy-efficiency\n",
      "kin8nm\n",
      "Loading dataset kin8nm....\n",
      "Done loading dataset kin8nm\n",
      "naval\n",
      "Loading dataset naval....\n",
      "Done loading dataset naval\n",
      "power-plant\n",
      "Loading dataset power-plant....\n",
      "Done loading dataset power-plant\n",
      "protein\n",
      "Loading dataset protein....\n",
      "Done loading dataset protein\n",
      "wine\n",
      "Loading dataset wine....\n",
      "Done loading dataset wine\n",
      "yacht\n",
      "Loading dataset yacht....\n",
      "Done loading dataset yacht\n"
     ]
    }
   ],
   "source": [
    "for di, dataset in enumerate(datasets):\n",
    "    batch_size = h_params[dataset][\"batch_size\"]\n",
    "    learning_rate = h_params[dataset][\"learning_rate\"]\n",
    "\n",
    "    (x_train, y_train), (x_test, y_test), y_scale = data_loader.load_dataset(dataset, return_as_tensor=True)\n",
    "    num_iterations = num_epochs * x_train.shape[0]//batch_size\n",
    "    model = EvidentialRegression(x_train.size(1))\n",
    "    storage_options = {\"folder\": \"models\", \"name\": dataset}\n",
    "    trainer = EvidentialTrainer(model, learning_rate=learning_rate, storage_options=storage_options)\n",
    "    rmse, nll = trainer.train(x_train, y_train, x_test, y_test, y_scale.item(), iters=num_iterations, batch_size=batch_size, verbose=False)\n",
    "    del model"
   ]
  },
  {
   "cell_type": "raw",
   "metadata": {
    "id": "14Y0daxgcMFL"
   },
   "source": [
    "(x_train_boston, y_train_boston), (x_test_boston,\n",
    "                                   y_test_boston), y_scale_boston = data_loader.load_dataset(\"boston\", return_as_tensor=True)\n",
    "model = EvidentialRegression(x_train_boston.size(1))\n",
    "trainer = EvidentialTrainer(model)\n",
    "trainer.train(x_train_boston, y_train_boston, x_test_boston, y_test_boston, y_scale_boston.item(), iters=2000)"
   ]
  },
  {
   "cell_type": "code",
   "execution_count": null,
   "metadata": {},
   "outputs": [],
   "source": []
  }
 ],
 "metadata": {
  "accelerator": "GPU",
  "colab": {
   "collapsed_sections": [],
   "name": "Copia de RegressionEvaluation.ipynb",
   "provenance": []
  },
  "kernelspec": {
   "display_name": "Python 3",
   "language": "python",
   "name": "python3"
  },
  "language_info": {
   "codemirror_mode": {
    "name": "ipython",
    "version": 3
   },
   "file_extension": ".py",
   "mimetype": "text/x-python",
   "name": "python",
   "nbconvert_exporter": "python",
   "pygments_lexer": "ipython3",
   "version": "3.8.6"
  }
 },
 "nbformat": 4,
 "nbformat_minor": 1
}
