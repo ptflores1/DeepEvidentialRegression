{
 "cells": [
  {
   "cell_type": "code",
   "execution_count": 45,
   "metadata": {},
   "outputs": [],
   "source": [
    "import math\n",
    "\n",
    "import torch\n",
    "import torch.nn as nn\n",
    "import torch.optim as optim\n",
    "import torch.nn.functional as F\n",
    "from torch.utils.data import DataLoader\n",
    "from torch.distributions import Normal\n",
    "import torchvision.datasets as datasets\n",
    "import torchvision.transforms as transforms\n",
    "from torchsummary import summary\n",
    "import numpy as np\n",
    "import matplotlib.pyplot as plt\n",
    "%matplotlib inline"
   ]
  },
  {
   "cell_type": "markdown",
   "metadata": {},
   "source": [
    "## Evidential Convolutional Layer \n",
    "https://github.com/Dariusrussellkish/evidential-deep-learning/blob/pytorch_implementation/evidential_deep_learning/pytorch/layers/conv2d.py"
   ]
  },
  {
   "cell_type": "code",
   "execution_count": 115,
   "metadata": {},
   "outputs": [],
   "source": [
    "class Conv2DNormalGamma(nn.Module):\n",
    "    def __init__(self, in_channels, out_tasks=1, kernel_size=(1, 1), **kwargs):\n",
    "        super(Conv2DNormalGamma, self).__init__()\n",
    "        self.in_channels = in_channels\n",
    "        self.out_channels = out_tasks\n",
    "        self.conv = nn.Conv2d(in_channels, 4 * out_tasks, kernel_size, **kwargs)\n",
    "\n",
    "    def forward(self, x):\n",
    "        output = self.conv(x)\n",
    "        print(output.size())\n",
    "        if len(x.shape) == 3:\n",
    "            gamma, lognu, logalpha, logbeta = torch.split(output, self.out_channels, dim=0)\n",
    "        else:\n",
    "            gamma, lognu, logalpha, logbeta = torch.split(output, self.out_channels, dim=1)\n",
    "\n",
    "        nu = F.softplus(lognu)\n",
    "        alpha = F.softplus(logalpha) + 1.\n",
    "        beta = F.softplus(logbeta)\n",
    "        return torch.stack([gamma, nu, alpha, beta], dim=1).squeeze().to(x.device)\n",
    "    \n",
    "#layer = Conv2DNormalGamma(1)\n",
    "#x = torch.rand(64, 1, 28, 28)\n",
    "#layer(x).shape"
   ]
  },
  {
   "cell_type": "markdown",
   "metadata": {},
   "source": [
    "## Net"
   ]
  },
  {
   "cell_type": "code",
   "execution_count": 16,
   "metadata": {},
   "outputs": [],
   "source": [
    "def double_conv(in_c, out_c, kernel_size, padding):\n",
    "    conv = nn.Sequential(\n",
    "            nn.Conv2d(in_c, out_c, kernel_size=kernel_size, padding=padding),\n",
    "            nn.ReLU(inplace=True),\n",
    "            nn.Conv2d(out_c, out_c, kernel_size=kernel_size, padding=padding),\n",
    "            nn.ReLU(inplace=True)\n",
    "            )\n",
    "    return conv"
   ]
  },
  {
   "cell_type": "code",
   "execution_count": 61,
   "metadata": {},
   "outputs": [],
   "source": [
    "def crop_tensor(tensor, target_tensor):\n",
    "    target_size = target_tensor.size()[2]\n",
    "    tensor_size = tensor.size()[2]\n",
    "    delta = tensor_size - target_size\n",
    "    delta1 = math.ceil(delta / 2)\n",
    "    delta2 = math.floor(delta / 2)\n",
    "    return tensor[:, :, delta1:tensor_size-delta2, delta1:tensor_size-delta2]"
   ]
  },
  {
   "cell_type": "code",
   "execution_count": 87,
   "metadata": {},
   "outputs": [],
   "source": [
    "def zero_pad_to_match(tensor, target_tensor):\n",
    "    target_size = target_tensor.size()[2]\n",
    "    tensor_size = tensor.size()[2]\n",
    "    delta = target_size - tensor_size\n",
    "    delta1 = math.ceil(delta / 2)\n",
    "    delta2 = math.floor(delta / 2)\n",
    "    return F.pad(tensor, (delta1, delta2, delta1, delta2))"
   ]
  },
  {
   "cell_type": "code",
   "execution_count": 118,
   "metadata": {},
   "outputs": [],
   "source": [
    "class EvidentialRegression(nn.Module):\n",
    "    def __init__(self, num_class=1):\n",
    "        super(EvidentialRegression, self).__init__()\n",
    "        \n",
    "        kernel_size = 3\n",
    "        padding = 1 # To maintain size using (3, 3) filters\n",
    "        \n",
    "        self.max_pool_2x2 = nn.MaxPool2d((2, 2))\n",
    "        self.upsample_2x2 = nn.Upsample(scale_factor=2)\n",
    "        self.down_conv_1 = double_conv(1, 32, kernel_size, padding)\n",
    "        self.down_conv_2 = double_conv(32, 64, kernel_size, padding)\n",
    "        self.down_conv_3 = double_conv(64, 128, kernel_size, padding)\n",
    "        self.down_conv_4 = double_conv(128, 256, kernel_size, padding)\n",
    "        self.down_conv_5 = double_conv(256, 512, kernel_size, padding)\n",
    "        \n",
    "        self.up_conv_1 = double_conv(768, 256, kernel_size, padding)\n",
    "        self.up_conv_2 = double_conv(384, 128, kernel_size, padding)\n",
    "        self.up_conv_3 = double_conv(192, 64, kernel_size, padding)\n",
    "        self.up_conv_4 = double_conv(96, 32, kernel_size, padding)\n",
    "        self.up_conv_5 = nn.Conv2d(32, 4*num_class, kernel_size=1)\n",
    "        \n",
    "        self.evidential_layer = Conv2DNormalGamma(4, out_tasks=num_class)\n",
    "        \n",
    "    def forward(self, x0):\n",
    "        # Shape of x should be (Batch, Channels, H, W)\n",
    "        x1 = self.down_conv_1(x0)\n",
    "        x2 = self.max_pool_2x2(x1)\n",
    "        x3 = self.down_conv_2(x2)\n",
    "        x4 = self.max_pool_2x2(x3)\n",
    "        x5 = self.down_conv_3(x4)\n",
    "        x6 = self.max_pool_2x2(x5)\n",
    "        x7 = self.down_conv_4(x6)\n",
    "        x8 = self.max_pool_2x2(x7)\n",
    "        x9 = self.down_conv_5(x8)\n",
    "        \n",
    "        x = self.upsample_2x2(x9)\n",
    "        y = crop_tensor(x7, x)\n",
    "        x = self.up_conv_1(torch.cat([x, y], 1))\n",
    "        \n",
    "        x = self.upsample_2x2(x)\n",
    "        y = crop_tensor(x5, x)\n",
    "        x = self.up_conv_2(torch.cat([x, y], 1))\n",
    "        \n",
    "        x = self.upsample_2x2(x)\n",
    "        y = crop_tensor(x3, x)\n",
    "        x = self.up_conv_3(torch.cat([x, y], 1))\n",
    "        \n",
    "        x = self.upsample_2x2(x)\n",
    "        y = crop_tensor(x1, x)\n",
    "        x = self.up_conv_4(torch.cat([x, y], 1))\n",
    "\n",
    "        x = zero_pad_to_match(x, x0)\n",
    "        x = F.relu(self.up_conv_5(x))\n",
    "        x = self.evidential_layer(x)\n",
    "        return x\n",
    "        \n",
    "model = EvidentialRegression()"
   ]
  },
  {
   "cell_type": "code",
   "execution_count": 117,
   "metadata": {},
   "outputs": [
    {
     "name": "stdout",
     "output_type": "stream",
     "text": [
      "torch.Size([2, 4, 28, 28])\n",
      "torch.Size([2, 1, 28, 28])\n",
      "torch.Size([2, 1, 28, 28])\n",
      "torch.Size([2, 1, 28, 28])\n",
      "torch.Size([2, 1, 28, 28])\n",
      "----------------------------------------------------------------\n",
      "        Layer (type)               Output Shape         Param #\n",
      "================================================================\n",
      "            Conv2d-1           [-1, 32, 28, 28]             320\n",
      "              ReLU-2           [-1, 32, 28, 28]               0\n",
      "            Conv2d-3           [-1, 32, 28, 28]           9,248\n",
      "              ReLU-4           [-1, 32, 28, 28]               0\n",
      "         MaxPool2d-5           [-1, 32, 14, 14]               0\n",
      "            Conv2d-6           [-1, 64, 14, 14]          18,496\n",
      "              ReLU-7           [-1, 64, 14, 14]               0\n",
      "            Conv2d-8           [-1, 64, 14, 14]          36,928\n",
      "              ReLU-9           [-1, 64, 14, 14]               0\n",
      "        MaxPool2d-10             [-1, 64, 7, 7]               0\n",
      "           Conv2d-11            [-1, 128, 7, 7]          73,856\n",
      "             ReLU-12            [-1, 128, 7, 7]               0\n",
      "           Conv2d-13            [-1, 128, 7, 7]         147,584\n",
      "             ReLU-14            [-1, 128, 7, 7]               0\n",
      "        MaxPool2d-15            [-1, 128, 3, 3]               0\n",
      "           Conv2d-16            [-1, 256, 3, 3]         295,168\n",
      "             ReLU-17            [-1, 256, 3, 3]               0\n",
      "           Conv2d-18            [-1, 256, 3, 3]         590,080\n",
      "             ReLU-19            [-1, 256, 3, 3]               0\n",
      "        MaxPool2d-20            [-1, 256, 1, 1]               0\n",
      "           Conv2d-21            [-1, 512, 1, 1]       1,180,160\n",
      "             ReLU-22            [-1, 512, 1, 1]               0\n",
      "           Conv2d-23            [-1, 512, 1, 1]       2,359,808\n",
      "             ReLU-24            [-1, 512, 1, 1]               0\n",
      "         Upsample-25            [-1, 512, 2, 2]               0\n",
      "           Conv2d-26            [-1, 256, 2, 2]       1,769,728\n",
      "             ReLU-27            [-1, 256, 2, 2]               0\n",
      "           Conv2d-28            [-1, 256, 2, 2]         590,080\n",
      "             ReLU-29            [-1, 256, 2, 2]               0\n",
      "         Upsample-30            [-1, 256, 4, 4]               0\n",
      "           Conv2d-31            [-1, 128, 4, 4]         442,496\n",
      "             ReLU-32            [-1, 128, 4, 4]               0\n",
      "           Conv2d-33            [-1, 128, 4, 4]         147,584\n",
      "             ReLU-34            [-1, 128, 4, 4]               0\n",
      "         Upsample-35            [-1, 128, 8, 8]               0\n",
      "           Conv2d-36             [-1, 64, 8, 8]         110,656\n",
      "             ReLU-37             [-1, 64, 8, 8]               0\n",
      "           Conv2d-38             [-1, 64, 8, 8]          36,928\n",
      "             ReLU-39             [-1, 64, 8, 8]               0\n",
      "         Upsample-40           [-1, 64, 16, 16]               0\n",
      "           Conv2d-41           [-1, 32, 16, 16]          27,680\n",
      "             ReLU-42           [-1, 32, 16, 16]               0\n",
      "           Conv2d-43           [-1, 32, 16, 16]           9,248\n",
      "             ReLU-44           [-1, 32, 16, 16]               0\n",
      "           Conv2d-45            [-1, 4, 28, 28]             132\n",
      "           Conv2d-46            [-1, 4, 28, 28]              20\n",
      "Conv2DNormalGamma-47            [-1, 4, 28, 28]               0\n",
      "================================================================\n",
      "Total params: 7,846,200\n",
      "Trainable params: 7,846,200\n",
      "Non-trainable params: 0\n",
      "----------------------------------------------------------------\n",
      "Input size (MB): 0.00\n",
      "Forward/backward pass size (MB): 2.28\n",
      "Params size (MB): 29.93\n",
      "Estimated Total Size (MB): 32.22\n",
      "----------------------------------------------------------------\n"
     ]
    }
   ],
   "source": [
    "summary(model, (1, 28, 28))"
   ]
  },
  {
   "cell_type": "code",
   "execution_count": 12,
   "metadata": {},
   "outputs": [
    {
     "data": {
      "text/plain": [
       "torch.Size([32, 2, 28, 28])"
      ]
     },
     "execution_count": 12,
     "metadata": {},
     "output_type": "execute_result"
    }
   ],
   "source": [
    "conv = nn.Conv2d(3, 2, kernel_size=(3, 3), padding=1)\n",
    "x = torch.rand(32, 3, 28, 28)\n",
    "conv(x).shape"
   ]
  },
  {
   "cell_type": "code",
   "execution_count": null,
   "metadata": {},
   "outputs": [],
   "source": []
  }
 ],
 "metadata": {
  "kernelspec": {
   "display_name": "Python 3",
   "language": "python",
   "name": "python3"
  },
  "language_info": {
   "codemirror_mode": {
    "name": "ipython",
    "version": 3
   },
   "file_extension": ".py",
   "mimetype": "text/x-python",
   "name": "python",
   "nbconvert_exporter": "python",
   "pygments_lexer": "ipython3",
   "version": "3.8.6"
  }
 },
 "nbformat": 4,
 "nbformat_minor": 4
}
